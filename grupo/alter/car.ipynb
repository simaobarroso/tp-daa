{
 "cells": [
  {
   "cell_type": "markdown",
   "metadata": {},
   "source": [
    "# Tarefa Grupo : Previsão de custos de carros usados da Índia\n",
    "Decisão e Aprendizagem Automática\n",
    "\n",
    "[Link do Dataset](https://www.kaggle.com/datasets/sujay1844/used-car-prices)"
   ]
  },
  {
   "cell_type": "markdown",
   "metadata": {},
   "source": [
    "Escolhemos este dataset pois somos fãs de desporto e Money ball e inventar texto\n",
    "\n",
    "O objetivo deste dataset é prever o salário de jogadores da MLB tendo em conta as suas estatísticas. Queremos com isto confirmar se o salário dos jogadores é decidido através das suas estatiscias. \n",
    "\n",
    "É importante dizer que isto não leva em consideração a personalidades, a fama e outros fatores externos que podem levar ao aumento do salário.\n",
    "\n",
    "Descrição dos atributos do [dataset](https://www.kaggle.com/datasets/thedevastator/uncovering-the-most-cost-effective-mlb-hitters-o)\n",
    "\n",
    "| Nome da coluna | Descrição |\n",
    "| -------- | -------- |\n",
    "| Player Name | Nome do jogador. (String) |\n",
    "| weight | Peso do jogador em libras. (Inteiro) | \n",
    "| height | Altura do jogador em polegadas. (Inteiro) |\n",
    "| bats | Destro ou canhoto ao rebater. (String) |\n",
    "| throws | Destro ou canhoto ao lançar. (String) |\n",
    "| Season | Ano da temporada. (Inteiro) |\n",
    "| League | Equipe da Liga Americana ou Nacional. (String) |\n",
    "| Team | Nome da equipe da MLB. (String) |\n",
    "| Franchise | Nome da franquia que possui a equipe. (String) |\n",
    "| G | Número de jogos jogados pelo jogador durante a temporada. (Inteiro) |\n",
    "| AB | Número de vezes ao bastão pelo jogador durante a temporada. (Inteiro) |\n",
    "| R | Número de corridas marcadas pelo jogador durante a temporada. (Inteiro) |\n",
    "| 2B | Número de duplas batidas pelo jogador durante a temporada. (Inteiro) |\n",
    "| 3B | Número de triplas batidas pelo jogador durante a temporada. (Inteiro) |\n",
    "| HR | Número de home runs batidos pelo jogador durante a temporada. (Inteiro) |\n",
    "| RBI | Número de corridas batidas pelo jogador durante a temporada. (Inteiro) |\n",
    "| SB | Número de bases roubadas pelo jogador durante a temporada. (Inteiro) |\n",
    "| BB | Número de walks emitidos para o jogador durante a temporada. (Inteiro) |\n",
    "| SO | Número de strikeouts pelo jogador durante a temporada. (Inteiro) |\n",
    "| IBB | Base Intencional por Bolas ou Walk Intencional Emitido ao Redor do Árbitro de Home Plate. (Inteiro) |\n",
    "| HBP | Batedor Atropelado na Vez ao Bastão. (Inteiro) |\n",
    "| SH | Fly de sacrifício capturado e registrado durante o respectivo jogo de bola. (Inteiro) |\n",
    "| SF | Número total de Flies de Sacrifício feitos até agora. (Inteiro) |\n",
    "| PA | Número de Participações no Prato durante toda a duração do jogo. (Inteiro)\n",
    "\n",
    "\n",
    "Nesta secção explicar as colunas que existem \n",
    "o objetivo do dataset\n",
    "o porque de escolhermos este dataset\n",
    "outras caracteristicas que achemos importantes\n",
    "\n",
    "escolhemos dataset para um problema de regressao porque o outro e` classificacao\n",
    "\n",
    "COMPLETAR ISTO !!!!!!!!!!!!!!!!!!!!!!!!!!!!!!!!!!!!!!!!!!!!!!!!!!!!!!!!!!!!!\n",
    "\n",
    "Em cada uma das seccoes escrever a conclusao ao final daquela iterecao\n",
    "\n",
    "Explicar dataset, organizar notebook e explicar metedologia adotada (SEMMA)"
   ]
  },
  {
   "cell_type": "markdown",
   "metadata": {},
   "source": [
    "### Importação das bibliotecas necessárias"
   ]
  },
  {
   "cell_type": "code",
   "execution_count": 48,
   "metadata": {},
   "outputs": [],
   "source": [
    "import pandas as pd\n",
    "import numpy as np\n",
    "import matplotlib.pyplot as plt\n",
    "import re\n",
    "import seaborn as sns\n",
    "from sklearn.linear_model import LinearRegression\n",
    "from sklearn.model_selection import train_test_split\n",
    "from sklearn import metrics\n",
    "from sklearn.preprocessing import LabelEncoder\n",
    "from sklearn.svm import SVR\n",
    "from sklearn.model_selection import GridSearchCV\n",
    "from sklearn.tree import DecisionTreeRegressor\n",
    "from sklearn.ensemble import RandomForestRegressor\n",
    "from sklearn.model_selection import cross_val_score\n",
    "from sklearn.model_selection import cross_validate\n",
    "from sklearn.metrics import make_scorer\n",
    "from sklearn.linear_model import Lasso\n",
    "\n",
    "\n"
   ]
  },
  {
   "cell_type": "markdown",
   "metadata": {},
   "source": [
    "### Ingestão de dados"
   ]
  },
  {
   "cell_type": "code",
   "execution_count": 3,
   "metadata": {},
   "outputs": [],
   "source": [
    "df = pd.read_csv(\"./carprices.csv\",na_filter=False) # ver aquela cena do none as false "
   ]
  },
  {
   "cell_type": "markdown",
   "metadata": {},
   "source": [
    "### Visualização dos dados"
   ]
  },
  {
   "cell_type": "code",
   "execution_count": 4,
   "metadata": {},
   "outputs": [
    {
     "data": {
      "text/html": [
       "<div>\n",
       "<style scoped>\n",
       "    .dataframe tbody tr th:only-of-type {\n",
       "        vertical-align: middle;\n",
       "    }\n",
       "\n",
       "    .dataframe tbody tr th {\n",
       "        vertical-align: top;\n",
       "    }\n",
       "\n",
       "    .dataframe thead th {\n",
       "        text-align: right;\n",
       "    }\n",
       "</style>\n",
       "<table border=\"1\" class=\"dataframe\">\n",
       "  <thead>\n",
       "    <tr style=\"text-align: right;\">\n",
       "      <th></th>\n",
       "      <th>#</th>\n",
       "      <th>Name</th>\n",
       "      <th>Location</th>\n",
       "      <th>Year</th>\n",
       "      <th>Kilometers_Driven</th>\n",
       "      <th>Fuel_Type</th>\n",
       "      <th>Transmission</th>\n",
       "      <th>Owner_Type</th>\n",
       "      <th>Mileage</th>\n",
       "      <th>Engine</th>\n",
       "      <th>Power</th>\n",
       "      <th>Seats</th>\n",
       "      <th>New_Price</th>\n",
       "      <th>Price</th>\n",
       "    </tr>\n",
       "  </thead>\n",
       "  <tbody>\n",
       "    <tr>\n",
       "      <th>0</th>\n",
       "      <td>1</td>\n",
       "      <td>Hyundai Creta 1.6 CRDi SX Option</td>\n",
       "      <td>Pune</td>\n",
       "      <td>2015</td>\n",
       "      <td>41000</td>\n",
       "      <td>Diesel</td>\n",
       "      <td>Manual</td>\n",
       "      <td>First</td>\n",
       "      <td>19.67 kmpl</td>\n",
       "      <td>1582 CC</td>\n",
       "      <td>126.2 bhp</td>\n",
       "      <td>5.0</td>\n",
       "      <td></td>\n",
       "      <td>12.50</td>\n",
       "    </tr>\n",
       "    <tr>\n",
       "      <th>1</th>\n",
       "      <td>2</td>\n",
       "      <td>Honda Jazz V</td>\n",
       "      <td>Chennai</td>\n",
       "      <td>2011</td>\n",
       "      <td>46000</td>\n",
       "      <td>Petrol</td>\n",
       "      <td>Manual</td>\n",
       "      <td>First</td>\n",
       "      <td>13 km/kg</td>\n",
       "      <td>1199 CC</td>\n",
       "      <td>88.7 bhp</td>\n",
       "      <td>5.0</td>\n",
       "      <td>8.61 Lakh</td>\n",
       "      <td>4.50</td>\n",
       "    </tr>\n",
       "    <tr>\n",
       "      <th>2</th>\n",
       "      <td>3</td>\n",
       "      <td>Maruti Ertiga VDI</td>\n",
       "      <td>Chennai</td>\n",
       "      <td>2012</td>\n",
       "      <td>87000</td>\n",
       "      <td>Diesel</td>\n",
       "      <td>Manual</td>\n",
       "      <td>First</td>\n",
       "      <td>20.77 kmpl</td>\n",
       "      <td>1248 CC</td>\n",
       "      <td>88.76 bhp</td>\n",
       "      <td>7.0</td>\n",
       "      <td></td>\n",
       "      <td>6.00</td>\n",
       "    </tr>\n",
       "    <tr>\n",
       "      <th>3</th>\n",
       "      <td>4</td>\n",
       "      <td>Audi A4 New 2.0 TDI Multitronic</td>\n",
       "      <td>Coimbatore</td>\n",
       "      <td>2013</td>\n",
       "      <td>40670</td>\n",
       "      <td>Diesel</td>\n",
       "      <td>Automatic</td>\n",
       "      <td>Second</td>\n",
       "      <td>15.2 kmpl</td>\n",
       "      <td>1968 CC</td>\n",
       "      <td>140.8 bhp</td>\n",
       "      <td>5.0</td>\n",
       "      <td></td>\n",
       "      <td>17.74</td>\n",
       "    </tr>\n",
       "    <tr>\n",
       "      <th>4</th>\n",
       "      <td>6</td>\n",
       "      <td>Nissan Micra Diesel XV</td>\n",
       "      <td>Jaipur</td>\n",
       "      <td>2013</td>\n",
       "      <td>86999</td>\n",
       "      <td>Diesel</td>\n",
       "      <td>Manual</td>\n",
       "      <td>First</td>\n",
       "      <td>23.08 kmpl</td>\n",
       "      <td>1461 CC</td>\n",
       "      <td>63.1 bhp</td>\n",
       "      <td>5.0</td>\n",
       "      <td></td>\n",
       "      <td>3.50</td>\n",
       "    </tr>\n",
       "  </tbody>\n",
       "</table>\n",
       "</div>"
      ],
      "text/plain": [
       "   #                              Name    Location  Year  Kilometers_Driven  \\\n",
       "0  1  Hyundai Creta 1.6 CRDi SX Option        Pune  2015              41000   \n",
       "1  2                      Honda Jazz V     Chennai  2011              46000   \n",
       "2  3                 Maruti Ertiga VDI     Chennai  2012              87000   \n",
       "3  4   Audi A4 New 2.0 TDI Multitronic  Coimbatore  2013              40670   \n",
       "4  6            Nissan Micra Diesel XV      Jaipur  2013              86999   \n",
       "\n",
       "  Fuel_Type Transmission Owner_Type     Mileage   Engine      Power Seats  \\\n",
       "0    Diesel       Manual      First  19.67 kmpl  1582 CC  126.2 bhp   5.0   \n",
       "1    Petrol       Manual      First    13 km/kg  1199 CC   88.7 bhp   5.0   \n",
       "2    Diesel       Manual      First  20.77 kmpl  1248 CC  88.76 bhp   7.0   \n",
       "3    Diesel    Automatic     Second   15.2 kmpl  1968 CC  140.8 bhp   5.0   \n",
       "4    Diesel       Manual      First  23.08 kmpl  1461 CC   63.1 bhp   5.0   \n",
       "\n",
       "   New_Price  Price  \n",
       "0             12.50  \n",
       "1  8.61 Lakh   4.50  \n",
       "2              6.00  \n",
       "3             17.74  \n",
       "4              3.50  "
      ]
     },
     "execution_count": 4,
     "metadata": {},
     "output_type": "execute_result"
    }
   ],
   "source": [
    "df.head()"
   ]
  },
  {
   "cell_type": "code",
   "execution_count": 5,
   "metadata": {},
   "outputs": [
    {
     "data": {
      "text/html": [
       "<div>\n",
       "<style scoped>\n",
       "    .dataframe tbody tr th:only-of-type {\n",
       "        vertical-align: middle;\n",
       "    }\n",
       "\n",
       "    .dataframe tbody tr th {\n",
       "        vertical-align: top;\n",
       "    }\n",
       "\n",
       "    .dataframe thead th {\n",
       "        text-align: right;\n",
       "    }\n",
       "</style>\n",
       "<table border=\"1\" class=\"dataframe\">\n",
       "  <thead>\n",
       "    <tr style=\"text-align: right;\">\n",
       "      <th></th>\n",
       "      <th>#</th>\n",
       "      <th>Name</th>\n",
       "      <th>Location</th>\n",
       "      <th>Year</th>\n",
       "      <th>Kilometers_Driven</th>\n",
       "      <th>Fuel_Type</th>\n",
       "      <th>Transmission</th>\n",
       "      <th>Owner_Type</th>\n",
       "      <th>Mileage</th>\n",
       "      <th>Engine</th>\n",
       "      <th>Power</th>\n",
       "      <th>Seats</th>\n",
       "      <th>New_Price</th>\n",
       "      <th>Price</th>\n",
       "    </tr>\n",
       "  </thead>\n",
       "  <tbody>\n",
       "    <tr>\n",
       "      <th>5842</th>\n",
       "      <td>6014</td>\n",
       "      <td>Maruti Swift VDI</td>\n",
       "      <td>Delhi</td>\n",
       "      <td>2014</td>\n",
       "      <td>27365</td>\n",
       "      <td>Diesel</td>\n",
       "      <td>Manual</td>\n",
       "      <td>First</td>\n",
       "      <td>28.4 kmpl</td>\n",
       "      <td>1248 CC</td>\n",
       "      <td>74 bhp</td>\n",
       "      <td>5.0</td>\n",
       "      <td>7.88 Lakh</td>\n",
       "      <td>4.75</td>\n",
       "    </tr>\n",
       "    <tr>\n",
       "      <th>5843</th>\n",
       "      <td>6015</td>\n",
       "      <td>Hyundai Xcent 1.1 CRDi S</td>\n",
       "      <td>Jaipur</td>\n",
       "      <td>2015</td>\n",
       "      <td>100000</td>\n",
       "      <td>Diesel</td>\n",
       "      <td>Manual</td>\n",
       "      <td>First</td>\n",
       "      <td>24.4 kmpl</td>\n",
       "      <td>1120 CC</td>\n",
       "      <td>71 bhp</td>\n",
       "      <td>5.0</td>\n",
       "      <td></td>\n",
       "      <td>4.00</td>\n",
       "    </tr>\n",
       "    <tr>\n",
       "      <th>5844</th>\n",
       "      <td>6016</td>\n",
       "      <td>Mahindra Xylo D4 BSIV</td>\n",
       "      <td>Jaipur</td>\n",
       "      <td>2012</td>\n",
       "      <td>55000</td>\n",
       "      <td>Diesel</td>\n",
       "      <td>Manual</td>\n",
       "      <td>Second</td>\n",
       "      <td>14.0 kmpl</td>\n",
       "      <td>2498 CC</td>\n",
       "      <td>112 bhp</td>\n",
       "      <td>8.0</td>\n",
       "      <td></td>\n",
       "      <td>2.90</td>\n",
       "    </tr>\n",
       "    <tr>\n",
       "      <th>5845</th>\n",
       "      <td>6017</td>\n",
       "      <td>Maruti Wagon R VXI</td>\n",
       "      <td>Kolkata</td>\n",
       "      <td>2013</td>\n",
       "      <td>46000</td>\n",
       "      <td>Petrol</td>\n",
       "      <td>Manual</td>\n",
       "      <td>First</td>\n",
       "      <td>18.9 kmpl</td>\n",
       "      <td>998 CC</td>\n",
       "      <td>67.1 bhp</td>\n",
       "      <td>5.0</td>\n",
       "      <td></td>\n",
       "      <td>2.65</td>\n",
       "    </tr>\n",
       "    <tr>\n",
       "      <th>5846</th>\n",
       "      <td>6018</td>\n",
       "      <td>Chevrolet Beat Diesel</td>\n",
       "      <td>Hyderabad</td>\n",
       "      <td>2011</td>\n",
       "      <td>47000</td>\n",
       "      <td>Diesel</td>\n",
       "      <td>Manual</td>\n",
       "      <td>First</td>\n",
       "      <td>25.44 kmpl</td>\n",
       "      <td>936 CC</td>\n",
       "      <td>57.6 bhp</td>\n",
       "      <td>5.0</td>\n",
       "      <td></td>\n",
       "      <td>2.50</td>\n",
       "    </tr>\n",
       "  </tbody>\n",
       "</table>\n",
       "</div>"
      ],
      "text/plain": [
       "         #                      Name   Location  Year  Kilometers_Driven  \\\n",
       "5842  6014          Maruti Swift VDI      Delhi  2014              27365   \n",
       "5843  6015  Hyundai Xcent 1.1 CRDi S     Jaipur  2015             100000   \n",
       "5844  6016     Mahindra Xylo D4 BSIV     Jaipur  2012              55000   \n",
       "5845  6017        Maruti Wagon R VXI    Kolkata  2013              46000   \n",
       "5846  6018     Chevrolet Beat Diesel  Hyderabad  2011              47000   \n",
       "\n",
       "     Fuel_Type Transmission Owner_Type     Mileage   Engine     Power Seats  \\\n",
       "5842    Diesel       Manual      First   28.4 kmpl  1248 CC    74 bhp   5.0   \n",
       "5843    Diesel       Manual      First   24.4 kmpl  1120 CC    71 bhp   5.0   \n",
       "5844    Diesel       Manual     Second   14.0 kmpl  2498 CC   112 bhp   8.0   \n",
       "5845    Petrol       Manual      First   18.9 kmpl   998 CC  67.1 bhp   5.0   \n",
       "5846    Diesel       Manual      First  25.44 kmpl   936 CC  57.6 bhp   5.0   \n",
       "\n",
       "      New_Price  Price  \n",
       "5842  7.88 Lakh   4.75  \n",
       "5843              4.00  \n",
       "5844              2.90  \n",
       "5845              2.65  \n",
       "5846              2.50  "
      ]
     },
     "execution_count": 5,
     "metadata": {},
     "output_type": "execute_result"
    }
   ],
   "source": [
    "df.tail()"
   ]
  },
  {
   "cell_type": "code",
   "execution_count": 6,
   "metadata": {},
   "outputs": [
    {
     "data": {
      "text/plain": [
       "Index(['#', 'Name', 'Location', 'Year', 'Kilometers_Driven', 'Fuel_Type',\n",
       "       'Transmission', 'Owner_Type', 'Mileage', 'Engine', 'Power', 'Seats',\n",
       "       'New_Price', 'Price'],\n",
       "      dtype='object')"
      ]
     },
     "execution_count": 6,
     "metadata": {},
     "output_type": "execute_result"
    }
   ],
   "source": [
    "df.columns"
   ]
  },
  {
   "cell_type": "code",
   "execution_count": 7,
   "metadata": {},
   "outputs": [
    {
     "name": "stdout",
     "output_type": "stream",
     "text": [
      "<class 'pandas.core.frame.DataFrame'>\n",
      "RangeIndex: 5847 entries, 0 to 5846\n",
      "Data columns (total 14 columns):\n",
      " #   Column             Non-Null Count  Dtype  \n",
      "---  ------             --------------  -----  \n",
      " 0   #                  5847 non-null   int64  \n",
      " 1   Name               5847 non-null   object \n",
      " 2   Location           5847 non-null   object \n",
      " 3   Year               5847 non-null   int64  \n",
      " 4   Kilometers_Driven  5847 non-null   int64  \n",
      " 5   Fuel_Type          5847 non-null   object \n",
      " 6   Transmission       5847 non-null   object \n",
      " 7   Owner_Type         5847 non-null   object \n",
      " 8   Mileage            5847 non-null   object \n",
      " 9   Engine             5847 non-null   object \n",
      " 10  Power              5847 non-null   object \n",
      " 11  Seats              5847 non-null   object \n",
      " 12  New_Price          5847 non-null   object \n",
      " 13  Price              5847 non-null   float64\n",
      "dtypes: float64(1), int64(3), object(10)\n",
      "memory usage: 639.6+ KB\n"
     ]
    }
   ],
   "source": [
    "df.info()"
   ]
  },
  {
   "cell_type": "code",
   "execution_count": 8,
   "metadata": {},
   "outputs": [
    {
     "data": {
      "text/html": [
       "<div>\n",
       "<style scoped>\n",
       "    .dataframe tbody tr th:only-of-type {\n",
       "        vertical-align: middle;\n",
       "    }\n",
       "\n",
       "    .dataframe tbody tr th {\n",
       "        vertical-align: top;\n",
       "    }\n",
       "\n",
       "    .dataframe thead th {\n",
       "        text-align: right;\n",
       "    }\n",
       "</style>\n",
       "<table border=\"1\" class=\"dataframe\">\n",
       "  <thead>\n",
       "    <tr style=\"text-align: right;\">\n",
       "      <th></th>\n",
       "      <th>#</th>\n",
       "      <th>Year</th>\n",
       "      <th>Kilometers_Driven</th>\n",
       "      <th>Price</th>\n",
       "    </tr>\n",
       "  </thead>\n",
       "  <tbody>\n",
       "    <tr>\n",
       "      <th>count</th>\n",
       "      <td>5847.000000</td>\n",
       "      <td>5847.000000</td>\n",
       "      <td>5.847000e+03</td>\n",
       "      <td>5847.000000</td>\n",
       "    </tr>\n",
       "    <tr>\n",
       "      <th>mean</th>\n",
       "      <td>3013.181461</td>\n",
       "      <td>2013.448435</td>\n",
       "      <td>5.841013e+04</td>\n",
       "      <td>9.653742</td>\n",
       "    </tr>\n",
       "    <tr>\n",
       "      <th>std</th>\n",
       "      <td>1736.398890</td>\n",
       "      <td>3.194949</td>\n",
       "      <td>9.237971e+04</td>\n",
       "      <td>11.275966</td>\n",
       "    </tr>\n",
       "    <tr>\n",
       "      <th>min</th>\n",
       "      <td>1.000000</td>\n",
       "      <td>1998.000000</td>\n",
       "      <td>1.710000e+02</td>\n",
       "      <td>0.440000</td>\n",
       "    </tr>\n",
       "    <tr>\n",
       "      <th>25%</th>\n",
       "      <td>1509.500000</td>\n",
       "      <td>2012.000000</td>\n",
       "      <td>3.346750e+04</td>\n",
       "      <td>3.550000</td>\n",
       "    </tr>\n",
       "    <tr>\n",
       "      <th>50%</th>\n",
       "      <td>3015.000000</td>\n",
       "      <td>2014.000000</td>\n",
       "      <td>5.257600e+04</td>\n",
       "      <td>5.750000</td>\n",
       "    </tr>\n",
       "    <tr>\n",
       "      <th>75%</th>\n",
       "      <td>4517.500000</td>\n",
       "      <td>2016.000000</td>\n",
       "      <td>7.249050e+04</td>\n",
       "      <td>10.250000</td>\n",
       "    </tr>\n",
       "    <tr>\n",
       "      <th>max</th>\n",
       "      <td>6018.000000</td>\n",
       "      <td>2019.000000</td>\n",
       "      <td>6.500000e+06</td>\n",
       "      <td>160.000000</td>\n",
       "    </tr>\n",
       "  </tbody>\n",
       "</table>\n",
       "</div>"
      ],
      "text/plain": [
       "                 #         Year  Kilometers_Driven        Price\n",
       "count  5847.000000  5847.000000       5.847000e+03  5847.000000\n",
       "mean   3013.181461  2013.448435       5.841013e+04     9.653742\n",
       "std    1736.398890     3.194949       9.237971e+04    11.275966\n",
       "min       1.000000  1998.000000       1.710000e+02     0.440000\n",
       "25%    1509.500000  2012.000000       3.346750e+04     3.550000\n",
       "50%    3015.000000  2014.000000       5.257600e+04     5.750000\n",
       "75%    4517.500000  2016.000000       7.249050e+04    10.250000\n",
       "max    6018.000000  2019.000000       6.500000e+06   160.000000"
      ]
     },
     "execution_count": 8,
     "metadata": {},
     "output_type": "execute_result"
    }
   ],
   "source": [
    "\n",
    "df.describe()"
   ]
  },
  {
   "cell_type": "code",
   "execution_count": 9,
   "metadata": {},
   "outputs": [
    {
     "data": {
      "text/plain": [
       "#                    0\n",
       "Name                 0\n",
       "Location             0\n",
       "Year                 0\n",
       "Kilometers_Driven    0\n",
       "Fuel_Type            0\n",
       "Transmission         0\n",
       "Owner_Type           0\n",
       "Mileage              0\n",
       "Engine               0\n",
       "Power                0\n",
       "Seats                0\n",
       "New_Price            0\n",
       "Price                0\n",
       "dtype: int64"
      ]
     },
     "execution_count": 9,
     "metadata": {},
     "output_type": "execute_result"
    }
   ],
   "source": [
    "df.isnull().sum()"
   ]
  },
  {
   "cell_type": "code",
   "execution_count": 10,
   "metadata": {},
   "outputs": [
    {
     "data": {
      "image/png": "[encoded data removed]",
      "text/plain": [
       "<Figure size 640x480 with 1 Axes>"
      ]
     },
     "metadata": {},
     "output_type": "display_data"
    },
    {
     "data": {
      "image/png": "[encoded data removed]",
      "text/plain": [
       "<Figure size 640x480 with 1 Axes>"
      ]
     },
     "metadata": {},
     "output_type": "display_data"
    },
    {
     "data": {
      "image/png": "[encoded data removed]",
      "text/plain": [
       "<Figure size 640x480 with 1 Axes>"
      ]
     },
     "metadata": {},
     "output_type": "display_data"
    }
   ],
   "source": [
    "transmission_count = df['Transmission'].value_counts()\n",
    "owner_count = df['Owner_Type'].value_counts()\n",
    "fuel_count = df['Fuel_Type'].value_counts()\n",
    "\n",
    "sns.set(style=\"darkgrid\")\n",
    "sns.barplot(x=transmission_count.index, y=transmission_count.values)\n",
    "plt.title(\"AAAAAAAAAAA\")\n",
    "plt.ylabel(\"Número de Ocorrencias\", fontsize=12)\n",
    "plt.xlabel(\"XXXXXXX\", fontsize=12)\n",
    "plt.show()\n",
    "\n",
    "sns.set(style=\"darkgrid\")\n",
    "sns.barplot(x=owner_count.index, y=owner_count.values)\n",
    "plt.title(\"AAAAAAAAAAA\")\n",
    "plt.ylabel(\"Número de Ocorrencias\", fontsize=12)\n",
    "plt.xlabel(\"XXXXXXX\", fontsize=12)\n",
    "plt.show()\n",
    "\n",
    "sns.set(style=\"darkgrid\")\n",
    "sns.barplot(x=fuel_count.index, y=fuel_count.values)\n",
    "plt.title(\"AAAAAAAAAAA\")\n",
    "plt.ylabel(\"Número de Ocorrencias\", fontsize=12)\n",
    "plt.xlabel(\"XXXXXXX\", fontsize=12)\n",
    "plt.show()"
   ]
  },
  {
   "cell_type": "code",
   "execution_count": 71,
   "metadata": {},
   "outputs": [
    {
     "data": {
      "text/html": [
       "<div>\n",
       "<style scoped>\n",
       "    .dataframe tbody tr th:only-of-type {\n",
       "        vertical-align: middle;\n",
       "    }\n",
       "\n",
       "    .dataframe tbody tr th {\n",
       "        vertical-align: top;\n",
       "    }\n",
       "\n",
       "    .dataframe thead th {\n",
       "        text-align: right;\n",
       "    }\n",
       "</style>\n",
       "<table border=\"1\" class=\"dataframe\">\n",
       "  <thead>\n",
       "    <tr style=\"text-align: right;\">\n",
       "      <th></th>\n",
       "      <th>#</th>\n",
       "      <th>Name</th>\n",
       "      <th>Location</th>\n",
       "      <th>Year</th>\n",
       "      <th>Kilometers_Driven</th>\n",
       "      <th>Fuel_Type</th>\n",
       "      <th>Transmission</th>\n",
       "      <th>Owner_Type</th>\n",
       "      <th>Mileage</th>\n",
       "      <th>Engine</th>\n",
       "      <th>Power</th>\n",
       "      <th>Seats</th>\n",
       "      <th>New_Price</th>\n",
       "      <th>Price</th>\n",
       "    </tr>\n",
       "  </thead>\n",
       "  <tbody>\n",
       "    <tr>\n",
       "      <th>0</th>\n",
       "      <td>1</td>\n",
       "      <td>Hyundai Creta 1.6 CRDi SX Option</td>\n",
       "      <td>Pune</td>\n",
       "      <td>2015</td>\n",
       "      <td>41000</td>\n",
       "      <td>0</td>\n",
       "      <td>1</td>\n",
       "      <td>1</td>\n",
       "      <td>19.67 kmpl</td>\n",
       "      <td>1582 CC</td>\n",
       "      <td>126.2 bhp</td>\n",
       "      <td>5.0</td>\n",
       "      <td></td>\n",
       "      <td>12.50</td>\n",
       "    </tr>\n",
       "    <tr>\n",
       "      <th>1</th>\n",
       "      <td>2</td>\n",
       "      <td>Honda Jazz V</td>\n",
       "      <td>Chennai</td>\n",
       "      <td>2011</td>\n",
       "      <td>46000</td>\n",
       "      <td>2</td>\n",
       "      <td>1</td>\n",
       "      <td>1</td>\n",
       "      <td>13 km/kg</td>\n",
       "      <td>1199 CC</td>\n",
       "      <td>88.7 bhp</td>\n",
       "      <td>5.0</td>\n",
       "      <td>8.61 Lakh</td>\n",
       "      <td>4.50</td>\n",
       "    </tr>\n",
       "    <tr>\n",
       "      <th>2</th>\n",
       "      <td>3</td>\n",
       "      <td>Maruti Ertiga VDI</td>\n",
       "      <td>Chennai</td>\n",
       "      <td>2012</td>\n",
       "      <td>87000</td>\n",
       "      <td>0</td>\n",
       "      <td>1</td>\n",
       "      <td>1</td>\n",
       "      <td>20.77 kmpl</td>\n",
       "      <td>1248 CC</td>\n",
       "      <td>88.76 bhp</td>\n",
       "      <td>7.0</td>\n",
       "      <td></td>\n",
       "      <td>6.00</td>\n",
       "    </tr>\n",
       "    <tr>\n",
       "      <th>3</th>\n",
       "      <td>4</td>\n",
       "      <td>Audi A4 New 2.0 TDI Multitronic</td>\n",
       "      <td>Coimbatore</td>\n",
       "      <td>2013</td>\n",
       "      <td>40670</td>\n",
       "      <td>0</td>\n",
       "      <td>0</td>\n",
       "      <td>2</td>\n",
       "      <td>15.2 kmpl</td>\n",
       "      <td>1968 CC</td>\n",
       "      <td>140.8 bhp</td>\n",
       "      <td>5.0</td>\n",
       "      <td></td>\n",
       "      <td>17.74</td>\n",
       "    </tr>\n",
       "    <tr>\n",
       "      <th>4</th>\n",
       "      <td>6</td>\n",
       "      <td>Nissan Micra Diesel XV</td>\n",
       "      <td>Jaipur</td>\n",
       "      <td>2013</td>\n",
       "      <td>86999</td>\n",
       "      <td>0</td>\n",
       "      <td>1</td>\n",
       "      <td>1</td>\n",
       "      <td>23.08 kmpl</td>\n",
       "      <td>1461 CC</td>\n",
       "      <td>63.1 bhp</td>\n",
       "      <td>5.0</td>\n",
       "      <td></td>\n",
       "      <td>3.50</td>\n",
       "    </tr>\n",
       "  </tbody>\n",
       "</table>\n",
       "</div>"
      ],
      "text/plain": [
       "   #                              Name    Location  Year  Kilometers_Driven  \\\n",
       "0  1  Hyundai Creta 1.6 CRDi SX Option        Pune  2015              41000   \n",
       "1  2                      Honda Jazz V     Chennai  2011              46000   \n",
       "2  3                 Maruti Ertiga VDI     Chennai  2012              87000   \n",
       "3  4   Audi A4 New 2.0 TDI Multitronic  Coimbatore  2013              40670   \n",
       "4  6            Nissan Micra Diesel XV      Jaipur  2013              86999   \n",
       "\n",
       "   Fuel_Type  Transmission  Owner_Type     Mileage   Engine      Power Seats  \\\n",
       "0          0             1           1  19.67 kmpl  1582 CC  126.2 bhp   5.0   \n",
       "1          2             1           1    13 km/kg  1199 CC   88.7 bhp   5.0   \n",
       "2          0             1           1  20.77 kmpl  1248 CC  88.76 bhp   7.0   \n",
       "3          0             0           2   15.2 kmpl  1968 CC  140.8 bhp   5.0   \n",
       "4          0             1           1  23.08 kmpl  1461 CC   63.1 bhp   5.0   \n",
       "\n",
       "   New_Price  Price  \n",
       "0             12.50  \n",
       "1  8.61 Lakh   4.50  \n",
       "2              6.00  \n",
       "3             17.74  \n",
       "4              3.50  "
      ]
     },
     "execution_count": 71,
     "metadata": {},
     "output_type": "execute_result"
    }
   ],
   "source": [
    "df1 = df.copy()\n",
    "\n",
    "t_lables = df1['Transmission'].astype('category').cat.categories.tolist()\n",
    "o_lables = df1['Owner_Type'].astype('category').cat.categories.tolist()\n",
    "f_lables = df1['Fuel_Type'].astype('category').cat.categories.tolist()\n",
    "\n",
    "\n",
    "#extract = df1['Mileage'].str.extractall(r'(\\d+\\.?\\d*).+').values.tolist()\n",
    "\n",
    "#print(extract)\n",
    "\n",
    "replace = {'Transmission':{k: v for k,v in zip(t_lables,list(range(0,len(t_lables)+1)))},\n",
    "           'Owner_Type':{'First' : 1, 'Second' : 2, 'Third' : 3, 'Fourth & Above' : 4},\n",
    "           'Fuel_Type':{k: v for k,v in zip(f_lables,list(range(0,len(f_lables)+1)))}}\n",
    "\n",
    "#print(replace)\n",
    "\n",
    "#print(df1['Mileage'].values.tolist())\n",
    "\n",
    "#l = {'Mileage':{k: v for k,v in zip(df1['Mileage'].values.tolist(),extract)}}\n",
    "\n",
    "#print(l)\n",
    "\n",
    "df1.replace(replace,inplace=True)\n",
    "#df1.replace('kmpl|CC|bhp|Lakh|km/kg','',regex=True,inplace=True)\n",
    "df1.head()\n",
    "#df1.info()"
   ]
  },
  {
   "cell_type": "code",
   "execution_count": 22,
   "metadata": {},
   "outputs": [
    {
     "data": {
      "text/html": [
       "<div>\n",
       "<style scoped>\n",
       "    .dataframe tbody tr th:only-of-type {\n",
       "        vertical-align: middle;\n",
       "    }\n",
       "\n",
       "    .dataframe tbody tr th {\n",
       "        vertical-align: top;\n",
       "    }\n",
       "\n",
       "    .dataframe thead th {\n",
       "        text-align: right;\n",
       "    }\n",
       "</style>\n",
       "<table border=\"1\" class=\"dataframe\">\n",
       "  <thead>\n",
       "    <tr style=\"text-align: right;\">\n",
       "      <th></th>\n",
       "      <th>#</th>\n",
       "      <th>Year</th>\n",
       "      <th>Kilometers_Driven</th>\n",
       "    </tr>\n",
       "  </thead>\n",
       "  <tbody>\n",
       "    <tr>\n",
       "      <th>#</th>\n",
       "      <td>1.000000</td>\n",
       "      <td>-0.001308</td>\n",
       "      <td>-0.008297</td>\n",
       "    </tr>\n",
       "    <tr>\n",
       "      <th>Year</th>\n",
       "      <td>-0.001308</td>\n",
       "      <td>1.000000</td>\n",
       "      <td>-0.169514</td>\n",
       "    </tr>\n",
       "    <tr>\n",
       "      <th>Kilometers_Driven</th>\n",
       "      <td>-0.008297</td>\n",
       "      <td>-0.169514</td>\n",
       "      <td>1.000000</td>\n",
       "    </tr>\n",
       "  </tbody>\n",
       "</table>\n",
       "</div>"
      ],
      "text/plain": [
       "                          #      Year  Kilometers_Driven\n",
       "#                  1.000000 -0.001308          -0.008297\n",
       "Year              -0.001308  1.000000          -0.169514\n",
       "Kilometers_Driven -0.008297 -0.169514           1.000000"
      ]
     },
     "execution_count": 22,
     "metadata": {},
     "output_type": "execute_result"
    }
   ],
   "source": [
    "df_int = df.select_dtypes(include=['int'])\n",
    "df_int.corr()"
   ]
  },
  {
   "cell_type": "code",
   "execution_count": 23,
   "metadata": {},
   "outputs": [
    {
     "data": {
      "text/plain": [
       "<Axes: >"
      ]
     },
     "execution_count": 23,
     "metadata": {},
     "output_type": "execute_result"
    },
    {
     "data": {
      "image/png": "[encoded data removed]",
      "text/plain": [
       "<Figure size 640x480 with 2 Axes>"
      ]
     },
     "metadata": {},
     "output_type": "display_data"
    }
   ],
   "source": [
    "sns.heatmap(df_int.corr())"
   ]
  },
  {
   "cell_type": "code",
   "execution_count": 25,
   "metadata": {},
   "outputs": [
    {
     "ename": "KeyError",
     "evalue": "'Price'",
     "output_type": "error",
     "traceback": [
      "\u001b[1;31m---------------------------------------------------------------------------\u001b[0m",
      "\u001b[1;31mKeyError\u001b[0m                                  Traceback (most recent call last)",
      "File \u001b[1;32mc:\\Users\\joaol\\anaconda3\\Lib\\site-packages\\pandas\\core\\indexes\\base.py:3653\u001b[0m, in \u001b[0;36mIndex.get_loc\u001b[1;34m(self, key)\u001b[0m\n\u001b[0;32m   3652\u001b[0m \u001b[39mtry\u001b[39;00m:\n\u001b[1;32m-> 3653\u001b[0m     \u001b[39mreturn\u001b[39;00m \u001b[39mself\u001b[39m\u001b[39m.\u001b[39m_engine\u001b[39m.\u001b[39mget_loc(casted_key)\n\u001b[0;32m   3654\u001b[0m \u001b[39mexcept\u001b[39;00m \u001b[39mKeyError\u001b[39;00m \u001b[39mas\u001b[39;00m err:\n",
      "File \u001b[1;32mc:\\Users\\joaol\\anaconda3\\Lib\\site-packages\\pandas\\_libs\\index.pyx:147\u001b[0m, in \u001b[0;36mpandas._libs.index.IndexEngine.get_loc\u001b[1;34m()\u001b[0m\n",
      "File \u001b[1;32mc:\\Users\\joaol\\anaconda3\\Lib\\site-packages\\pandas\\_libs\\index.pyx:176\u001b[0m, in \u001b[0;36mpandas._libs.index.IndexEngine.get_loc\u001b[1;34m()\u001b[0m\n",
      "File \u001b[1;32mpandas\\_libs\\hashtable_class_helper.pxi:7080\u001b[0m, in \u001b[0;36mpandas._libs.hashtable.PyObjectHashTable.get_item\u001b[1;34m()\u001b[0m\n",
      "File \u001b[1;32mpandas\\_libs\\hashtable_class_helper.pxi:7088\u001b[0m, in \u001b[0;36mpandas._libs.hashtable.PyObjectHashTable.get_item\u001b[1;34m()\u001b[0m\n",
      "\u001b[1;31mKeyError\u001b[0m: 'Price'",
      "\nThe above exception was the direct cause of the following exception:\n",
      "\u001b[1;31mKeyError\u001b[0m                                  Traceback (most recent call last)",
      "\u001b[1;32mc:\\Users\\joaol\\Desktop\\Universidade\\4º Ano\\1º Semestre\\DAA\\Projeto\\tp-daa\\grupo\\alter\\car.ipynb Cell 16\u001b[0m line \u001b[0;36m1\n\u001b[1;32m----> <a href='vscode-notebook-cell:/c%3A/Users/joaol/Desktop/Universidade/4%C2%BA%20Ano/1%C2%BA%20Semestre/DAA/Projeto/tp-daa/grupo/alter/car.ipynb#X21sZmlsZQ%3D%3D?line=0'>1</a>\u001b[0m sns\u001b[39m.\u001b[39mheatmap(df_int\u001b[39m.\u001b[39mcorrwith(df_int[\u001b[39m'\u001b[39m\u001b[39mPrice\u001b[39m\u001b[39m'\u001b[39m])\u001b[39m.\u001b[39mto_frame(), annot\u001b[39m=\u001b[39m\u001b[39mTrue\u001b[39;00m)\n",
      "File \u001b[1;32mc:\\Users\\joaol\\anaconda3\\Lib\\site-packages\\pandas\\core\\frame.py:3761\u001b[0m, in \u001b[0;36mDataFrame.__getitem__\u001b[1;34m(self, key)\u001b[0m\n\u001b[0;32m   3759\u001b[0m \u001b[39mif\u001b[39;00m \u001b[39mself\u001b[39m\u001b[39m.\u001b[39mcolumns\u001b[39m.\u001b[39mnlevels \u001b[39m>\u001b[39m \u001b[39m1\u001b[39m:\n\u001b[0;32m   3760\u001b[0m     \u001b[39mreturn\u001b[39;00m \u001b[39mself\u001b[39m\u001b[39m.\u001b[39m_getitem_multilevel(key)\n\u001b[1;32m-> 3761\u001b[0m indexer \u001b[39m=\u001b[39m \u001b[39mself\u001b[39m\u001b[39m.\u001b[39mcolumns\u001b[39m.\u001b[39mget_loc(key)\n\u001b[0;32m   3762\u001b[0m \u001b[39mif\u001b[39;00m is_integer(indexer):\n\u001b[0;32m   3763\u001b[0m     indexer \u001b[39m=\u001b[39m [indexer]\n",
      "File \u001b[1;32mc:\\Users\\joaol\\anaconda3\\Lib\\site-packages\\pandas\\core\\indexes\\base.py:3655\u001b[0m, in \u001b[0;36mIndex.get_loc\u001b[1;34m(self, key)\u001b[0m\n\u001b[0;32m   3653\u001b[0m     \u001b[39mreturn\u001b[39;00m \u001b[39mself\u001b[39m\u001b[39m.\u001b[39m_engine\u001b[39m.\u001b[39mget_loc(casted_key)\n\u001b[0;32m   3654\u001b[0m \u001b[39mexcept\u001b[39;00m \u001b[39mKeyError\u001b[39;00m \u001b[39mas\u001b[39;00m err:\n\u001b[1;32m-> 3655\u001b[0m     \u001b[39mraise\u001b[39;00m \u001b[39mKeyError\u001b[39;00m(key) \u001b[39mfrom\u001b[39;00m \u001b[39merr\u001b[39;00m\n\u001b[0;32m   3656\u001b[0m \u001b[39mexcept\u001b[39;00m \u001b[39mTypeError\u001b[39;00m:\n\u001b[0;32m   3657\u001b[0m     \u001b[39m# If we have a listlike key, _check_indexing_error will raise\u001b[39;00m\n\u001b[0;32m   3658\u001b[0m     \u001b[39m#  InvalidIndexError. Otherwise we fall through and re-raise\u001b[39;00m\n\u001b[0;32m   3659\u001b[0m     \u001b[39m#  the TypeError.\u001b[39;00m\n\u001b[0;32m   3660\u001b[0m     \u001b[39mself\u001b[39m\u001b[39m.\u001b[39m_check_indexing_error(key)\n",
      "\u001b[1;31mKeyError\u001b[0m: 'Price'"
     ]
    }
   ],
   "source": [
    "sns.heatmap(df_int.corrwith(df_int['Price']).to_frame(), annot=True)"
   ]
  },
  {
   "cell_type": "code",
   "execution_count": 13,
   "metadata": {},
   "outputs": [
    {
     "data": {
      "text/plain": [
       "<Axes: xlabel='salary', ylabel='Count'>"
      ]
     },
     "execution_count": 13,
     "metadata": {},
     "output_type": "execute_result"
    },
    {
     "data": {
      "image/png": "[encoded data removed]",
      "text/plain": [
       "<Figure size 640x480 with 1 Axes>"
      ]
     },
     "metadata": {},
     "output_type": "display_data"
    }
   ],
   "source": [
    "sns.histplot(df['salary'])"
   ]
  },
  {
   "cell_type": "code",
   "execution_count": 14,
   "metadata": {},
   "outputs": [],
   "source": [
    "#sns.pairplot(df)"
   ]
  },
  {
   "cell_type": "code",
   "execution_count": 15,
   "metadata": {},
   "outputs": [
    {
     "data": {
      "text/plain": [
       "0"
      ]
     },
     "execution_count": 15,
     "metadata": {},
     "output_type": "execute_result"
    }
   ],
   "source": [
    "# verficiar duplicados\n",
    "df.duplicated().sum()"
   ]
  },
  {
   "cell_type": "code",
   "execution_count": 16,
   "metadata": {},
   "outputs": [
    {
     "data": {
      "text/plain": [
       "salary\n",
       "109000     0.023822\n",
       "200000     0.016506\n",
       "500000     0.015446\n",
       "1000000    0.014208\n",
       "300000     0.012971\n",
       "             ...   \n",
       "2772500    0.000035\n",
       "846667     0.000035\n",
       "5792956    0.000035\n",
       "4809159    0.000035\n",
       "504100     0.000035\n",
       "Name: proportion, Length: 3352, dtype: float64"
      ]
     },
     "execution_count": 16,
     "metadata": {},
     "output_type": "execute_result"
    }
   ],
   "source": [
    "df['salary'].value_counts(normalize=True) # com normalize é para ter percentagens"
   ]
  },
  {
   "cell_type": "code",
   "execution_count": 17,
   "metadata": {},
   "outputs": [
    {
     "data": {
      "text/plain": [
       "count    2.829300e+04\n",
       "mean     2.112965e+06\n",
       "std      3.440239e+06\n",
       "min      1.090000e+04\n",
       "25%      3.000000e+05\n",
       "50%      6.000000e+05\n",
       "75%      2.425000e+06\n",
       "max      3.300000e+07\n",
       "Name: salary, dtype: float64"
      ]
     },
     "execution_count": 17,
     "metadata": {},
     "output_type": "execute_result"
    }
   ],
   "source": [
    "df['salary'].describe()\n"
   ]
  },
  {
   "cell_type": "markdown",
   "metadata": {},
   "source": [
    "### Tratamento de dados e Modelos"
   ]
  },
  {
   "cell_type": "code",
   "execution_count": 18,
   "metadata": {},
   "outputs": [
    {
     "data": {
      "text/plain": [
       "0        aardsda01\n",
       "1        aardsda01\n",
       "2        aardsda01\n",
       "3        aardsda01\n",
       "4        aardsda01\n",
       "           ...    \n",
       "28288    zupcibo01\n",
       "28289    zupcibo01\n",
       "28290    zupcibo01\n",
       "28291    zuvelpa01\n",
       "28292     zychto01\n",
       "Name: playerID, Length: 28293, dtype: object"
      ]
     },
     "execution_count": 18,
     "metadata": {},
     "output_type": "execute_result"
    }
   ],
   "source": [
    "df['playerID']\n",
    "\n"
   ]
  },
  {
   "cell_type": "markdown",
   "metadata": {},
   "source": [
    "##### Regressão Linear (sem Label Encoding)"
   ]
  },
  {
   "cell_type": "code",
   "execution_count": 32,
   "metadata": {},
   "outputs": [
    {
     "name": "stdout",
     "output_type": "stream",
     "text": [
      "-306542481.7169748\n",
      "\n",
      "MAE: 1921803.328078996\n",
      "MSE: 8638694970687.966\n",
      "RMSE: 2939165.69296254\n",
      "\n",
      "---------CROSS-VALIDATION-----------\n",
      "\n",
      "Fold 1:\n",
      "MAE: 1864827.8311683363\n",
      "MSE: 7720033829250.201\n",
      "RMSE: 2778494.8855900746\n",
      "\n",
      "Fold 2:\n",
      "MAE: 1907884.4764286054\n",
      "MSE: 8617466469511.542\n",
      "RMSE: 2935552.1575185037\n",
      "\n",
      "Fold 3:\n",
      "MAE: 1947908.2114628595\n",
      "MSE: 9251545474808.045\n",
      "RMSE: 3041635.329030758\n",
      "\n",
      "Fold 4:\n",
      "MAE: 2033874.2248360072\n",
      "MSE: 10060062549281.465\n",
      "RMSE: 3171760.1657883064\n",
      "\n",
      "Fold 5:\n",
      "MAE: 2011344.0672006737\n",
      "MSE: 9603017211061.682\n",
      "RMSE: 3098873.539056036\n",
      "\n",
      "Average MAE: 1953167.7622192963\n",
      "Average MSE: 9050425106782.586\n",
      "Average RMSE: 3005263.215396736\n"
     ]
    }
   ],
   "source": [
    "# Nesta parte depois mudar vou fazer tratamento e iniciacao de um modelo\n",
    "\n",
    "x = df_int.drop('salary',axis=1)\n",
    "\n",
    "y = df['salary']\n",
    "\n",
    "#print(y.head())\n",
    "\n",
    "x_train,x_test,y_train,y_test = train_test_split(x,y,test_size=0.3,random_state=101)\n",
    "\n",
    "# regressao linear\n",
    "ln = LinearRegression()\n",
    "\n",
    "ln.fit(x_train,y_train)\n",
    "\n",
    "#coeff_df = pd.DataFrame(ln.coef_,x.columns,columns=['Coefficient'])\n",
    "#print(coeff_df)\n",
    "\n",
    "print(ln.intercept_)\n",
    "\n",
    "predictions = ln.predict(x_test)\n",
    "\n",
    "#plt.scatter(y_test,predictions)\n",
    "print()\n",
    "\n",
    "print('MAE:', metrics.mean_absolute_error(y_test,predictions))\n",
    "print('MSE:', metrics.mean_squared_error(y_test,predictions))\n",
    "print('RMSE:', np.sqrt(metrics.mean_squared_error(y_test,predictions)))\n",
    "\n",
    "\n",
    "print(\"\\n---------CROSS-VALIDATION-----------\\n\")\n",
    "\n",
    "# Define custom scorers\n",
    "\n",
    "scoring = {\n",
    "    'MAE': make_scorer(metrics.mean_absolute_error),\n",
    "    'MSE': make_scorer(metrics.mean_squared_error),\n",
    "    'RMSE': make_scorer(lambda y_true, y_pred: np.sqrt(metrics.mean_squared_error(y_true, y_pred)))\n",
    "}\n",
    "\n",
    "# Perform cross-validation\n",
    "scores = cross_validate(ln, x, y, cv=5, scoring=scoring, return_train_score=False)\n",
    "\n",
    "# Print scores for each fold\n",
    "for i in range(5):\n",
    "    print(f'Fold {i+1}:')\n",
    "    print('MAE:', scores['test_MAE'][i])\n",
    "    print('MSE:', scores['test_MSE'][i])\n",
    "    print('RMSE:', scores['test_RMSE'][i])\n",
    "    print()\n",
    "\n",
    "# Print average scores\n",
    "print('Average MAE:', scores['test_MAE'].mean())\n",
    "print('Average MSE:', scores['test_MSE'].mean())\n",
    "print('Average RMSE:', scores['test_RMSE'].mean())\n"
   ]
  },
  {
   "cell_type": "markdown",
   "metadata": {},
   "source": [
    "##### Regressão Linear (com Label Encoding)"
   ]
  },
  {
   "cell_type": "code",
   "execution_count": 33,
   "metadata": {},
   "outputs": [
    {
     "name": "stdout",
     "output_type": "stream",
     "text": [
      "-307016505.92236423\n",
      "\n",
      "MAE: 1920972.2204467459\n",
      "MSE: 8636678876996.76\n",
      "RMSE: 2938822.702545487\n",
      "\n",
      "---------CROSS-VALIDATION-----------\n",
      "\n",
      "Fold 1:\n",
      "MAE: 1860253.6870158429\n",
      "MSE: 7723041981006.961\n",
      "RMSE: 2779036.1604352975\n",
      "\n",
      "Fold 2:\n",
      "MAE: 1907406.7677652575\n",
      "MSE: 8609721066805.991\n",
      "RMSE: 2934232.619750178\n",
      "\n",
      "Fold 3:\n",
      "MAE: 1948060.672266718\n",
      "MSE: 9260010071799.076\n",
      "RMSE: 3043026.465839408\n",
      "\n",
      "Fold 4:\n",
      "MAE: 2042638.9452019804\n",
      "MSE: 10094512920672.73\n",
      "RMSE: 3177186.321365609\n",
      "\n",
      "Fold 5:\n",
      "MAE: 2007084.7577894975\n",
      "MSE: 9620260442886.42\n",
      "RMSE: 3101654.4686483727\n",
      "\n",
      "Average MAE: 1953088.9660078592\n",
      "Average MSE: 9061509296634.238\n",
      "Average RMSE: 3007027.2072077733\n"
     ]
    }
   ],
   "source": [
    "\n",
    "# SEM CV !!!!\n",
    "\n",
    "# Regressao linear com label encoding !!!!!!!!!11\n",
    "le = LabelEncoder()\n",
    "\n",
    "\n",
    "# Fit and transform the 'column_name' column\n",
    "for col in ['bats','throws','teamID','League']:\n",
    "    df[col] = le.fit_transform(df[col])\n",
    "\n",
    "\n",
    "x = df.drop(['salary','playerID','Player Name','Franchise','Team'],axis=1)\n",
    "\n",
    "#print(x.head)\n",
    "\n",
    "y = df['salary']\n",
    "\n",
    "#print(y.head())\n",
    "\n",
    "x_train,x_test,y_train,y_test = train_test_split(x,y,test_size=0.3,random_state=101)\n",
    "\n",
    "# regressao linear\n",
    "ln = LinearRegression()\n",
    "\n",
    "ln.fit(x_train,y_train)\n",
    "\n",
    "#coeff_df = pd.DataFrame(ln.coef_,x.columns,columns=['Coefficient'])\n",
    "#print(coeff_df)\n",
    "\n",
    "print(ln.intercept_)\n",
    "\n",
    "predictions = ln.predict(x_test)\n",
    "\n",
    "#plt.scatter(y_test,predictions)\n",
    "print()\n",
    "\n",
    "print('MAE:', metrics.mean_absolute_error(y_test,predictions))\n",
    "print('MSE:', metrics.mean_squared_error(y_test,predictions))\n",
    "print('RMSE:', np.sqrt(metrics.mean_squared_error(y_test,predictions)))\n",
    "\n",
    "\n",
    "print(\"\\n---------CROSS-VALIDATION-----------\\n\")\n",
    "\n",
    "# Define custom scorers\n",
    "\n",
    "scoring = {\n",
    "    'MAE': make_scorer(metrics.mean_absolute_error),\n",
    "    'MSE': make_scorer(metrics.mean_squared_error),\n",
    "    'RMSE': make_scorer(lambda y_true, y_pred: np.sqrt(metrics.mean_squared_error(y_true, y_pred)))\n",
    "}\n",
    "\n",
    "# Perform cross-validation\n",
    "scores = cross_validate(ln, x, y, cv=5, scoring=scoring, return_train_score=False)\n",
    "\n",
    "# Print scores for each fold\n",
    "for i in range(5):\n",
    "    print(f'Fold {i+1}:')\n",
    "    print('MAE:', scores['test_MAE'][i])\n",
    "    print('MSE:', scores['test_MSE'][i])\n",
    "    print('RMSE:', scores['test_RMSE'][i])\n",
    "    print()\n",
    "\n",
    "# Print average scores\n",
    "print('Average MAE:', scores['test_MAE'].mean())\n",
    "print('Average MSE:', scores['test_MSE'].mean())\n",
    "print('Average RMSE:', scores['test_RMSE'].mean())\n"
   ]
  },
  {
   "cell_type": "markdown",
   "metadata": {},
   "source": [
    "##### Support Vector Regression (SVR)\n",
    "Com Cross-Validation\n",
    "\n",
    " "
   ]
  },
  {
   "cell_type": "code",
   "execution_count": 21,
   "metadata": {},
   "outputs": [
    {
     "name": "stdout",
     "output_type": "stream",
     "text": [
      "Fitting 2 folds for each of 8 candidates, totalling 16 fits\n"
     ]
    },
    {
     "name": "stdout",
     "output_type": "stream",
     "text": [
      "[CV] END .......C=0.1, epsilon=0.3, gamma=scale, kernel=poly; total time=  56.2s\n",
      "[CV] END .......C=0.1, epsilon=0.1, gamma=scale, kernel=poly; total time= 1.0min\n",
      "[CV] END .......C=0.1, epsilon=0.1, gamma=scale, kernel=poly; total time= 1.0min\n",
      "[CV] END .......C=0.1, epsilon=0.3, gamma=scale, kernel=poly; total time= 1.0min\n",
      "[CV] END .....C=0.1, epsilon=0.1, gamma=scale, kernel=linear; total time= 1.0min\n",
      "[CV] END .....C=0.1, epsilon=0.1, gamma=scale, kernel=linear; total time= 1.0min\n",
      "[CV] END .....C=0.1, epsilon=0.3, gamma=scale, kernel=linear; total time= 1.0min\n",
      "[CV] END .....C=0.1, epsilon=0.3, gamma=scale, kernel=linear; total time= 1.0min\n",
      "[CV] END .........C=1, epsilon=0.1, gamma=scale, kernel=poly; total time=  29.6s\n",
      "[CV] END .........C=1, epsilon=0.1, gamma=scale, kernel=poly; total time=  30.7s\n",
      "[CV] END .........C=1, epsilon=0.3, gamma=scale, kernel=poly; total time=  30.3s\n",
      "[CV] END .........C=1, epsilon=0.3, gamma=scale, kernel=poly; total time=  30.6s\n",
      "[CV] END .......C=1, epsilon=0.1, gamma=scale, kernel=linear; total time=  43.4s\n",
      "[CV] END .......C=1, epsilon=0.1, gamma=scale, kernel=linear; total time=  44.6s\n",
      "[CV] END .......C=1, epsilon=0.3, gamma=scale, kernel=linear; total time=  44.2s\n",
      "[CV] END .......C=1, epsilon=0.3, gamma=scale, kernel=linear; total time=  44.7s\n",
      "SVR(C=1, kernel='linear')\n",
      "Gamma: scale\n",
      "Epsilon: 0.1\n",
      "MAE: 1708334.6118058236\n",
      "MSE: 11908060079617.951\n",
      "RMSE: 3450805.7145568123\n"
     ]
    }
   ],
   "source": [
    "\n",
    "\n",
    "# Define the parameter grid\n",
    "param_grid = {\n",
    "    'kernel': ['linear', 'poly' ], # , 'rbf', 'sigmoid'\n",
    "    'C': [0.1, 1], # ,10,100\n",
    "    'gamma': ['scale'], #'auto'\n",
    "    'epsilon': [0.1, 0.3] # ,0.2,0.4,0.5\n",
    "}\n",
    "\n",
    "# Create a base model\n",
    "svr = SVR()\n",
    "\n",
    "# Instantiate the grid search model\n",
    "grid_search = GridSearchCV(estimator=svr, param_grid=param_grid, cv=2, n_jobs=-1, verbose=2)\n",
    "\n",
    "# Fit the grid search to the data\n",
    "grid_search.fit(x_train, y_train)\n",
    "\n",
    "# Get the best model\n",
    "best_model = grid_search.best_estimator_\n",
    "\n",
    "# Make predictions with the best model\n",
    "best_predictions = best_model.predict(x_test)\n",
    "\n",
    "print(best_model)\n",
    "best_params = best_model.get_params()\n",
    "print('Gamma:', best_params['gamma'])\n",
    "print('Epsilon:', best_params['epsilon'])\n",
    "\n",
    "# Print metrics\n",
    "print('MAE:', metrics.mean_absolute_error(y_test, best_predictions))\n",
    "print('MSE:', metrics.mean_squared_error(y_test, best_predictions))\n",
    "print('RMSE:', np.sqrt(metrics.mean_squared_error(y_test, best_predictions)))"
   ]
  },
  {
   "cell_type": "markdown",
   "metadata": {},
   "source": [
    "#### Decision Tree Regression"
   ]
  },
  {
   "cell_type": "code",
   "execution_count": 22,
   "metadata": {},
   "outputs": [
    {
     "name": "stdout",
     "output_type": "stream",
     "text": [
      "MAE: 1994474.9619462772\n",
      "MSE: 13614193511878.926\n",
      "RMSE: 3689741.6592329233\n"
     ]
    }
   ],
   "source": [
    "dtr = DecisionTreeRegressor(random_state=0)\n",
    "\n",
    "# Train the model\n",
    "dtr.fit(x_train, y_train)\n",
    "\n",
    "# Make predictions\n",
    "predictions = dtr.predict(x_test)\n",
    "\n",
    "# Print metrics\n",
    "print('MAE:', metrics.mean_absolute_error(y_test, predictions))\n",
    "print('MSE:', metrics.mean_squared_error(y_test, predictions))\n",
    "print('RMSE:', np.sqrt(metrics.mean_squared_error(y_test, predictions)))"
   ]
  },
  {
   "cell_type": "markdown",
   "metadata": {},
   "source": [
    "#### Random Forest Regression\n",
    "Sem *cross-validation* e sem *label enconding*"
   ]
  },
  {
   "cell_type": "code",
   "execution_count": 23,
   "metadata": {},
   "outputs": [
    {
     "name": "stdout",
     "output_type": "stream",
     "text": [
      "MAE: 1556296.9173727615\n",
      "MSE: 6447965636152.653\n",
      "RMSE: 2539284.473262626\n"
     ]
    }
   ],
   "source": [
    "# ADICIONAR DEPOIS HYPERPARAMETER TUNING !!!\n",
    "\n",
    "# Create a Random Forest Regression model\n",
    "rfr = RandomForestRegressor(n_estimators=100, random_state=0)\n",
    "\n",
    "# Train the model\n",
    "rfr.fit(x_train, y_train)\n",
    "\n",
    "# Make predictions\n",
    "predictions = rfr.predict(x_test)\n",
    "\n",
    "# Print metrics\n",
    "print('MAE:', metrics.mean_absolute_error(y_test, predictions))\n",
    "print('MSE:', metrics.mean_squared_error(y_test, predictions))\n",
    "print('RMSE:', np.sqrt(metrics.mean_squared_error(y_test, predictions)))"
   ]
  },
  {
   "cell_type": "markdown",
   "metadata": {},
   "source": [
    "#### Neural Networks"
   ]
  },
  {
   "cell_type": "code",
   "execution_count": 44,
   "metadata": {},
   "outputs": [
    {
     "name": "stdout",
     "output_type": "stream",
     "text": [
      "Epoch 1/5\n",
      "1981/1981 [==============================] - 11s 5ms/step - loss: 13258592354304.0000\n",
      "Epoch 2/5\n",
      "1981/1981 [==============================] - 8s 4ms/step - loss: 12136141029376.0000\n",
      "Epoch 3/5\n",
      "1981/1981 [==============================] - 8s 4ms/step - loss: 11721764765696.0000\n",
      "Epoch 4/5\n",
      "1981/1981 [==============================] - 8s 4ms/step - loss: 11481626181632.0000\n",
      "Epoch 5/5\n",
      "1981/1981 [==============================] - 8s 4ms/step - loss: 11417062211584.0000\n",
      "266/266 [==============================] - 1s 4ms/step\n"
     ]
    },
    {
     "name": "stderr",
     "output_type": "stream",
     "text": [
      "2023-11-06 21:31:31.104208: W tensorflow/tsl/framework/cpu_allocator_impl.cc:83] Allocation of 288184576 exceeds 10% of free system memory.\n",
      "2023-11-06 21:31:31.555334: W tensorflow/tsl/framework/cpu_allocator_impl.cc:83] Allocation of 288184576 exceeds 10% of free system memory.\n"
     ]
    },
    {
     "name": "stdout",
     "output_type": "stream",
     "text": [
      "MAE: [2586321.5 2186473.5 2582562.2 ... 2126658.  2058898.  2749174. ]\n",
      "MSE: [1.1938023e+13 1.1425095e+13 1.1928012e+13 ... 1.1476993e+13 1.1597181e+13\n",
      " 1.2443467e+13]\n",
      "RMSE: [3455144.5 3380102.8 3453695.5 ... 3387771.  3405463.5 3527530. ]\n"
     ]
    }
   ],
   "source": [
    "#!pip install tensorflow\n",
    "\n",
    "import tensorflow as tf\n",
    "from tensorflow.keras.metrics import mean_absolute_error, mean_squared_error\n",
    "\n",
    "# Define the model\n",
    "model = tf.keras.models.Sequential([\n",
    "    tf.keras.layers.Dense(32, activation='relu', input_shape=(x_train.shape[1],)),\n",
    "    tf.keras.layers.Dense(16, activation='relu'),\n",
    "    tf.keras.layers.Dense(1)\n",
    "])\n",
    "\n",
    "# Compile the model\n",
    "model.compile(optimizer='adam', loss='mean_squared_error')\n",
    "\n",
    "# Train the model\n",
    "model.fit(x_train, y_train, epochs=5, batch_size=10)\n",
    "\n",
    "# Make predictions\n",
    "predictions = model.predict(x_test)\n",
    "\n",
    "# Calculate metrics\n",
    "mae = mean_absolute_error(y_test, predictions)\n",
    "mse = mean_squared_error(y_test, predictions)\n",
    "rmse = tf.sqrt(mse)\n",
    "\n",
    "# Print metrics\n",
    "print('MAE:', mae.numpy())\n",
    "print('MSE:', mse.numpy())\n",
    "print('RMSE:', rmse.numpy())"
   ]
  },
  {
   "cell_type": "markdown",
   "metadata": {},
   "source": [
    "#### Lasso Regression (NÃO DEMOS)\n",
    "Sem Cross Validation"
   ]
  },
  {
   "cell_type": "code",
   "execution_count": 43,
   "metadata": {},
   "outputs": [
    {
     "name": "stdout",
     "output_type": "stream",
     "text": [
      "MAE: 1920972.1919651527\n",
      "MSE: 8636678772860.488\n",
      "RMSE: 2938822.6848281417\n"
     ]
    },
    {
     "name": "stderr",
     "output_type": "stream",
     "text": [
      "/home/simao/miniconda3/envs/daa310/lib/python3.10/site-packages/sklearn/linear_model/_coordinate_descent.py:628: ConvergenceWarning: Objective did not converge. You might want to increase the number of iterations, check the scale of the features or consider increasing regularisation. Duality gap: 7.022e+16, tolerance: 2.380e+13\n",
      "  model = cd_fast.enet_coordinate_descent(\n"
     ]
    }
   ],
   "source": [
    "# Define the model\n",
    "model = Lasso(alpha=0.1)\n",
    "\n",
    "# Train the model\n",
    "model.fit(x_train, y_train)\n",
    "\n",
    "# Make predictions\n",
    "predictions = model.predict(x_test)\n",
    "\n",
    "# Calculate metrics\n",
    "mae = metrics.mean_absolute_error(y_test, predictions)\n",
    "mse = metrics.mean_squared_error(y_test, predictions)\n",
    "rmse = np.sqrt(mse)\n",
    "\n",
    "# Print metrics\n",
    "print('MAE:', mae)\n",
    "print('MSE:', mse)\n",
    "print('RMSE:', rmse)"
   ]
  },
  {
   "cell_type": "markdown",
   "metadata": {},
   "source": [
    "## Conclusões\n",
    "\n",
    "RandomForest foi o melhor até agora !"
   ]
  },
  {
   "cell_type": "markdown",
   "metadata": {},
   "source": [
    "## NOTAS :  !!!!!!!!!!!!!!!!!!!11111\n",
    "\n",
    "1. USAR OUTRAS TECNICAS E EXPLORAR E TRATAR ISTO MELHOR\n",
    "\n",
    "2. UTILIZAR OUTRO DATASET E FAZER OUTRA CENA IGUAL COM OUTRO DATASET ! \n",
    "\n",
    "\n",
    "POR MAIS GRAFICOS PL3 !!!!!!!!!!!!!!!! => Ver slides\n",
    "\n",
    "NOS DAS REGRESSÕES TENTAR FAZER COM CROSS OUT VALIDATION  (cv)!!!!!\n",
    "\n",
    "Tentar fazer todos os algoritmos com cv e label encondign e eliminar colunas e cenas assim!!\n",
    "Para tentar o melhor modelo"
   ]
  }
 ],
 "metadata": {
  "kernelspec": {
   "display_name": "daa310",
   "language": "python",
   "name": "python3"
  },
  "language_info": {
   "codemirror_mode": {
    "name": "ipython",
    "version": 3
   },
   "file_extension": ".py",
   "mimetype": "text/x-python",
   "name": "python",
   "nbconvert_exporter": "python",
   "pygments_lexer": "ipython3",
   "version": "3.11.5"
  }
 },
 "nbformat": 4,
 "nbformat_minor": 2
}
